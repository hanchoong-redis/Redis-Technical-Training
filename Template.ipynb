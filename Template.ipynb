{
 "cells": [
  {
   "cell_type": "code",
   "execution_count": 4,
   "id": "a1c25dce",
   "metadata": {},
   "outputs": [],
   "source": [
    "!pip -q install redis redis-cli"
   ]
  },
  {
   "cell_type": "code",
   "execution_count": null,
   "id": "7ed2c042",
   "metadata": {},
   "outputs": [],
   "source": [
    "import redis\n",
    "r = redis.Redis(host=\"127.0.0.1\", port=6379, db=0)"
   ]
  },
  {
   "cell_type": "markdown",
   "id": "3bc25782",
   "metadata": {},
   "source": []
  },
  {
   "cell_type": "markdown",
   "id": "faa6ae20",
   "metadata": {},
   "source": [
    "### Original Transcript"
   ]
  },
  {
   "cell_type": "markdown",
   "id": "a2f7d6ce",
   "metadata": {},
   "source": [
    "## Prompt\n",
    "\n",
    "Convert the provided transcript into **clean, readable Markdown**.\n",
    "\n",
    "### Formatting Requirements:\n",
    "\n",
    "* Output must be **developer-friendly and noise-free**.\n",
    "* **Focus only on technical content.**\n",
    "  * No filler, no personality, no commentary.\n",
    "  * No suggestions, no anecdotes, no unverified facts.\n",
    "  * Use explanations from the transcript to contextualize each command.\n",
    "   * [ORIGINAL TEXT] In our example today, we'll be using Lists to represent a radio station's playlist. Each playlist is effectively a queue. We'll learn how to add and remove songs, how to view the next five songs, and how to see how many songs we have left to play. For our radio station, we'll keep a Redis List called playlist. Each element in our List will be the ID of a song. When adding new elements, we say that we're pushing them onto the List. We push elements onto the right-hand side of the List using the RPUSH command.\n",
    "   * [IMPROVED TEXT] We’ll model a radio station playlist as a Redis List, treating it like a queue. Each element is a song ID. Songs are added to the right side with `RPUSH`, removed from the left with `LPOP`, and we can check upcoming songs or count how many remain with `LRANGE` and `LLEN`.\n",
    "\n",
    "* **Do not omit details. Do not delete or compress content.**\n",
    "* **Apply grammar/spelling corrections only if needed.**\n",
    "* **All responses must be wrapped in a fenced block starting with ```markdown and ending with ```**.\n",
    "* **ALL CITATIONS MUST BE MARKDOWN FORMATTED ie. [CITATION](CITATION LINK)**\n",
    "\n",
    "### Structure:\n",
    "\n",
    "1. **Title**:\n",
    "   Use the format:\n",
    "   `## [Video Title] - [Link to Video](YOUTUBE_LINK)`\n",
    "2. **Section Headers**:\n",
    "   Break content into logical sections with `###` headers for clarity.\n",
    "   Do not use --- to separate sections. Section separation is done using Python code blocks.\n",
    "3. **Code Blocks**:\n",
    "\n",
    "   * Place Redis command examples inside fenced Python code blocks.\n",
    "   * Format as:\n",
    "\n",
    "     ```python\n",
    "     # concise one-line explanation\n",
    "     r.execute_command(\"COMMAND\", \"args...\")\n",
    "     print(\"verification output\")\n",
    "     ```\n",
    "   * Always include a **verification command** when applicable.\n",
    "4. **Side Notes (Technical Commands)**:\n",
    "\n",
    "    > **Sidenote** \n",
    "    >\n",
    "    > [Link: {{Documentation URL}}]({{Documentation URL}})\n",
    "    >\n",
    "    > **Command**: `{{COMMAND_NAME}}` → {{Short description of what the command does.}}\n",
    "    >\n",
    "    > **Pattern**: `{{COMMAND_NAME}} {{arguments}}`\n",
    "    >\n",
    "    > **Example**: `{{Example usage of the command}}`\n",
    "    >\n",
    "    > **Result**: \n",
    "    >\n",
    "    > {{Description of what the command returns or produces}}\n",
    "    \n",
    "5. **Side Notes (Concepts)**:\n",
    "\n",
    "    > **Sidenote**  \n",
    "    >\n",
    "    > [Link: {{Reference URL}}]({{Reference URL}})  \n",
    "    >\n",
    "    > **Concept**: `{{CONCEPT_NAME}}` → {{Brief definition or explanation of the concept.}}  \n",
    "    >\n",
    "    > **Context**: {{Describe where or how this concept is applied.}}  \n",
    "    >\n",
    "    > **Example**: {{Illustrative example or analogy of the concept.}}  \n",
    "    >\n",
    "    > **Implication**:  \n",
    "    >\n",
    "    > {{Description of the impact, outcome, or importance of the concept.}}  \n",
    "\n",
    "### Enhancements:\n",
    "\n",
    "* Use **official Redis documentation** to enrich each command explanation with precise references. Web search must be used to derive all citations and conceptual explanations.\n",
    "* Search the web to include fleshed out concept explanations.\n",
    "* Add citations inline for all web references using Markdown links.\n",
    "* Citations and conceptual explanations must be included to expand on things not mentioned within the video itself.\n",
    "* Keep explanations **complete and accurate**, never partial.\n",
    "\n",
    "### Prohibited Styles:\n",
    "\n",
    "* ❌ “Below is the transcript…” preambles.\n",
    "* ❌ “If you like, I can produce a cheat sheet…” optional expansions.\n",
    "* ❌ Any editorializing, summarizing, or suggesting.\n",
    "\n",
    "---\n",
    "\n",
    "Transcript:\n"
   ]
  },
  {
   "cell_type": "markdown",
   "id": "75904540",
   "metadata": {},
   "source": []
  }
 ],
 "metadata": {
  "kernelspec": {
   "display_name": ".venv",
   "language": "python",
   "name": "python3"
  },
  "language_info": {
   "codemirror_mode": {
    "name": "ipython",
    "version": 3
   },
   "file_extension": ".py",
   "mimetype": "text/x-python",
   "name": "python",
   "nbconvert_exporter": "python",
   "pygments_lexer": "ipython3",
   "version": "3.13.7"
  }
 },
 "nbformat": 4,
 "nbformat_minor": 5
}
