{
 "cells": [
  {
   "cell_type": "code",
   "execution_count": 4,
   "id": "a1c25dce",
   "metadata": {},
   "outputs": [],
   "source": [
    "!pip -q install redis redis-cli"
   ]
  },
  {
   "cell_type": "code",
   "execution_count": 2,
   "id": "7ed2c042",
   "metadata": {},
   "outputs": [],
   "source": [
    "import redis\n",
    "r = redis.Redis(host=\"127.0.0.1\", port=6379, db=0)"
   ]
  },
  {
   "cell_type": "markdown",
   "id": "38203f60",
   "metadata": {},
   "source": [
    "## Redis Strings Explained - [Link to Video](https://youtu.be/n0LQREq4GrY)\n",
    "\n",
    "Redis strings are the most basic and common Redis data type, but they are also powerful. Strings in Redis are binary-safe sequences of bytes, similar to strings in most programming languages. You can store many types of data, including integers, binary values, comma-separated values, serialized JSON, and even larger objects like images, videos, documents, or sound files.\n",
    "\n",
    "### Practical Uses\n",
    "\n",
    "The most common use of Redis strings is caching, such as:\n",
    "\n",
    "- API responses\n",
    "- Session storage\n",
    "- HTML pages\n",
    "\n",
    "Strings are also useful for counters, with built-in support for incrementing and decrementing integers and floating-point values.\n",
    "\n",
    "### Storing and Retrieving Strings\n",
    "\n",
    "To create a string, use the `SET` command with a key and value. Example: `SET user:101:time-zone UTC+8`\n",
    "\n",
    "### Command Breakdown\n",
    "\n",
    "> **Sidenote**  \n",
    "> **Command**: `SET`  \n",
    "> Assigns a value to a key in Redis.  \n",
    ">   \n",
    "> **Key**: `user:101:time-zone`  \n",
    "> - `user` → namespace prefix for user data  \n",
    "> - `101` → unique user ID  \n",
    "> - `time-zone` → field/attribute for this user  \n",
    ">   \n",
    "> **Pattern:** `object:id:field`  \n",
    ">   \n",
    "> **Value**: `UTC+8`  \n",
    "> String value stored for the key (user’s time zone).  \n",
    ">   \n",
    "> **Result**:  \n",
    "> ```\n",
    "> Key: user:101:time-zone  \n",
    "> Value: UTC+8  \n",
    "> ```\n",
    "\n",
    "\n",
    "In response, Redis replies with `OK`, confirming the value was stored. To retrieve it, use the `GET` command: `GET user:101:time-zone`\n"
   ]
  },
  {
   "cell_type": "code",
   "execution_count": null,
   "id": "b35b514b",
   "metadata": {},
   "outputs": [
    {
     "name": "stdout",
     "output_type": "stream",
     "text": [
      "OK\n",
      "\"UTC+8\"\n"
     ]
    }
   ],
   "source": [
    "''' \n",
    "Using redis-cli:\n",
    "'''\n",
    "\n",
    "!redis-cli -h 127.0.0.1 -p 6379 SET user:101:time-zone UTC+8\n",
    "!redis-cli -h 127.0.0.1 -p 6379 GET user:101:time-zone"
   ]
  },
  {
   "cell_type": "code",
   "execution_count": null,
   "id": "c83b9129",
   "metadata": {},
   "outputs": [
    {
     "data": {
      "text/plain": [
       "'UTC+8'"
      ]
     },
     "execution_count": 8,
     "metadata": {},
     "output_type": "execute_result"
    }
   ],
   "source": [
    "''' \n",
    "Using Python (API):\n",
    "'''\n",
    "\n",
    "r.set(\"user:101:time-zone\", \"UTC+8\")\n",
    "val = r.get(\"user:101:time-zone\")\n",
    "val.decode()"
   ]
  },
  {
   "cell_type": "code",
   "execution_count": null,
   "id": "12db54d7",
   "metadata": {},
   "outputs": [
    {
     "name": "stdout",
     "output_type": "stream",
     "text": [
      "UTC+8\n"
     ]
    }
   ],
   "source": [
    "''' \n",
    "Using Python (Raw Redis Command):\n",
    "'''\n",
    "\n",
    "r.execute_command(\"SET\", \"user:101:time-zone\", \"UTC+8\")\n",
    "print(r.execute_command(\"GET\", \"user:101:time-zone\").decode())\n"
   ]
  },
  {
   "cell_type": "markdown",
   "id": "8263bb7d",
   "metadata": {},
   "source": [
    "### Caching JSON Objects\n",
    "\n",
    "Strings can store JSON responses, which is helpful when caching results that don’t change often. For example, instead of repeatedly querying a data warehouse, cache the response under a key like `usage:63`.\n",
    "\n",
    "When caching, you can set an expiration time with the `EX` option: `SET usage:63 \"{...JSON data...}\" EX 7200`\n",
    "\n",
    "This sets the key to expire in 7,200 seconds (two hours). You can check remaining time with the `TTL` command."
   ]
  },
  {
   "cell_type": "code",
   "execution_count": 10,
   "id": "478d96ea",
   "metadata": {},
   "outputs": [
    {
     "data": {
      "text/plain": [
       "True"
      ]
     },
     "execution_count": 10,
     "metadata": {},
     "output_type": "execute_result"
    }
   ],
   "source": [
    "r.execute_command(\"SET\", \"usage:63\", \"{...JSON data...}\", \"EX\", 7200)"
   ]
  },
  {
   "cell_type": "code",
   "execution_count": 12,
   "id": "d127b1e9",
   "metadata": {},
   "outputs": [
    {
     "name": "stdout",
     "output_type": "stream",
     "text": [
      "7142\n",
      "7142349\n"
     ]
    }
   ],
   "source": [
    "print(r.ttl(\"usage:63\")) #seconds\n",
    "print(r.pttl(\"usage:63\")) #milliseconds\n",
    "# Returns remaining time. -1 = no expiry. -2 = key missing."
   ]
  },
  {
   "cell_type": "markdown",
   "id": "c57522a3",
   "metadata": {},
   "source": [
    "### Incrementing and Decrementing\n",
    "\n",
    "Redis strings can also be manipulated numerically.\n",
    "\n",
    "- `INCR key` increments the value by 1.\n",
    "- `INCRBY key N` increments the value by N.\n",
    "- Using a negative number decrements the value.\n",
    "- If the key does not exist, Redis creates it automatically."
   ]
  },
  {
   "cell_type": "code",
   "execution_count": 13,
   "id": "4d0b87f6",
   "metadata": {},
   "outputs": [
    {
     "name": "stdout",
     "output_type": "stream",
     "text": [
      "visit-count = 1\n",
      "credit-balance = 40\n",
      "credit-balance = 70\n",
      "credit-balance = 20\n"
     ]
    }
   ],
   "source": [
    "# increment visit count by 1 (creates key with 1 if not exist)\n",
    "r.execute_command(\"INCR\", \"user:23:visit-count\")\n",
    "print(\"visit-count =\", r.get(\"user:23:visit-count\").decode())\n",
    "\n",
    "# set credit balance to 40 (overwrite if exists)\n",
    "r.execute_command(\"SET\", \"user:23:credit-balance\", 40)\n",
    "print(\"credit-balance =\", r.get(\"user:23:credit-balance\").decode())\n",
    "\n",
    "# add 30 to credit balance (40 → 70)\n",
    "r.execute_command(\"INCRBY\", \"user:23:credit-balance\", 30)\n",
    "print(\"credit-balance =\", r.get(\"user:23:credit-balance\").decode())\n",
    "\n",
    "# subtract 50 from credit balance (70 → 20)\n",
    "r.execute_command(\"INCRBY\", \"user:23:credit-balance\", -50)\n",
    "print(\"credit-balance =\", r.get(\"user:23:credit-balance\").decode())"
   ]
  },
  {
   "cell_type": "markdown",
   "id": "0e4601fe",
   "metadata": {},
   "source": [
    "### Key Takeaways\n",
    "\n",
    "- Redis strings are the fundamental data type.\n",
    "- They can store text, numbers, JSON, or binary data.\n",
    "- Strings with expirations are ideal for caching.\n",
    "- They support built-in increment and decrement operations."
   ]
  },
  {
   "cell_type": "markdown",
   "id": "755619da",
   "metadata": {},
   "source": [
    "### Original Transcript\n",
    "Video title: Redis Strings Explained\n",
    "    \n",
    "Video URL: https://youtu.be/n0LQREq4GrY\n",
    "    \n",
    "Video language: English (United States)\n",
    "    \n",
    "--------------------------------\n",
    "\n",
    "Hello. Today we're going to explore the string, the most basic and common Redis date type. We'll see just how powerful this little guy can be. [MUSIC PLAYING]  Redis strings are binary safe sequences of bytes. And they're a lot like the strings you use in your favorite programming language. You can store almost anything you can imagine in a Redis string. Integers, binary values, comma-separated values, serialized JSON. And since they're binary safe, you can even store larger objects, such as images, videos, documents and sound. So what are some practical uses for Redis strings? The most common use is for caching: API responses, session storage, HTML pages. The opportunities are vast. Redis strings are also great for implementing counters, as there is built in support for incrementing and decrementing integer and floating point values. Today, we're going to go over a couple examples using the Redis string. First, we'll cover how to store and retrieve a string. Second, we'll examine a use case of storing a JSON object as a string, and how to set an expiration time until it's deletion. We'll also discuss the implications of storing JSON as a string, and a couple of alternatives within Redis. Lastly, we'll learn how to increment and decrement an integer value within a Redis string. To create a string in Redis, you'll use the SET command. After the SET keyword, you specify the key, followed by the value you want to associate with it. For example, let's create a time zone entry for a user of an application that we're building. I'll use user:101:time-zone as the key and UTC 8 as the value. Redis returns OK, which means that the time zone string was successfully stored at key user:101:time-zone. To retrieve a Redis string, you use the GET command, followed by the key you want to retrieve. Let's now get the user's time zone. Redis returns the value of the key as a string. Let's consider an example use of strings. Imagine you want to provide your user with site usage data. Normally, you'd send the request to a data warehouse, which might take several seconds to complete. But by using a string, you can cache this JSON response after initially fetching it. As these responses don't change often. Here we have a sample JSON response containing a user's recent site usage request. Instead of accessing our data warehouse for this information on subsequent requests, we can cache this response as a string within Redis. Let's assign this information to the key usage:63. When caching data, it's common to set an expiry time. Here we'll do that by adding the EX option to our SET command, followed by a number of seconds. EX specifies a time in seconds, after which Redis will expire and delete the key and its associated string value. So this Redis string will now expire in 7,200 seconds, or two hours. By using Redis as a cache, subsequent responses that might have taken several seconds to fetch from the data warehouse, will instead be served instantly. We can check on the remaining time to live for a key by using the TTL command. TTL returns the number of seconds remaining before the key expires. Now, expiry is a complex enough topic to warrant its own video segment. So check back soon for a dedicated video. Lastly, let's check out the abilities of the Redis string in regards to integer manipulation. With the INCR and INCRBY commands, you can increment a key's value by one or by a specified number. You can also use a negative number, which will decrement the value. If there is no key already present. The INCR and INCRBY commands will create a new string, and increment its value appropriately. To see how that works? Let's run the INCR command with a key that doesn't exist yet. Since the key user:23:visit-count doesn't exist yet, the INCR command simply creates a new key and string with a value of 1. This is the Redis way. If a data structure doesn't exist, then it will be created the moment you write to it. Now, let's take a quick look at the INCRBY command. INCRBY increments the value of a given key by a specified number we provide in the command line. Let's say we have a key user:23:credit-balance with a value 40. Let's increase the value to 70 with command INCRBY user:23:credit-balance 30. Finally, let's reflect the usage of the available credits for this user by running INCRBY with a negative number. Let's say our user consumes 50 credits. The command would be INCRBY user:colon:23:credit balance -50.  Now, the user has 20 credits left. OK. So let's do a quick review of what we just covered for Redis strings. Strings are the fundamental Redis data type, and you can use them to store plain old strings, numerical values, serialized JSON, and anything that can be represented in binary. Strings, combined with key expiry, are your first go to data structure for caching. Finally, you can also use Redis strings to store and manipulate numerical values. To learn more about Redis strings, check our free online course: Introduction to Redis Data Structures. It's part of Redis University, our free online learning platform for all things Redis. Thanks for joining me in this quick dive into Redis strings. Hope to see you again, and happy learning. [MUSIC PLAYING]\n",
    "\n",
    "\n",
    "DISCLAIMER:\n",
    "\n",
    "\n",
    "By using this tool to convert YouTube videos to Text, you acknowledge and agree to the following:\n",
    "\n",
    "\n",
    "1. User Responsibility: You are responsible for ensuring that your use of this tool complies with all applicable copyright laws and YouTube's Terms of Use. This includes obtaining any necessary permissions from the original content creators before reproducing or distributing any content.\n",
    "\n",
    "\n",
    "2. Content Ownership: The transcripts generated by this tool are based on publicly available content from YouTube. You do not own the rights to the original video content or its transcripts. All copyrights and ownership rights remain with the original content creators.\n",
    "\n",
    "\n",
    "3. Attribution: This tool provides the URL of the original YouTube video for reference purposes. You are encouraged to include proper attribution when sharing the generated Text.\n",
    "\n",
    "\n",
    "4. Limitations of Liability: We disclaim any liability for the misuse of the content generated through this tool. By using this tool, you agree to hold us harmless from any claims or disputes arising from your use of the content."
   ]
  },
  {
   "cell_type": "markdown",
   "id": "4e682e2b",
   "metadata": {},
   "source": []
  }
 ],
 "metadata": {
  "kernelspec": {
   "display_name": ".venv",
   "language": "python",
   "name": "python3"
  },
  "language_info": {
   "codemirror_mode": {
    "name": "ipython",
    "version": 3
   },
   "file_extension": ".py",
   "mimetype": "text/x-python",
   "name": "python",
   "nbconvert_exporter": "python",
   "pygments_lexer": "ipython3",
   "version": "3.13.7"
  }
 },
 "nbformat": 4,
 "nbformat_minor": 5
}
