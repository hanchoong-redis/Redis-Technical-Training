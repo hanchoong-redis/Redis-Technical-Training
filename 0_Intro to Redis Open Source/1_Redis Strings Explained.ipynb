{
 "cells": [
  {
   "cell_type": "code",
   "execution_count": 4,
   "id": "a1c25dce",
   "metadata": {},
   "outputs": [],
   "source": [
    "!pip -q install redis redis-cli"
   ]
  },
  {
   "cell_type": "code",
   "execution_count": 2,
   "id": "7ed2c042",
   "metadata": {},
   "outputs": [],
   "source": [
    "import redis\n",
    "r = redis.Redis(host=\"127.0.0.1\", port=6379, db=0)"
   ]
  },
  {
   "cell_type": "markdown",
   "id": "38203f60",
   "metadata": {},
   "source": [
    "## Redis Strings Explained\n",
    "\n",
    "Redis strings are the most basic and common Redis data type, but they are also powerful. Strings in Redis are binary-safe sequences of bytes, similar to strings in most programming languages. You can store many types of data, including integers, binary values, comma-separated values, serialized JSON, and even larger objects like images, videos, documents, or sound files.\n",
    "\n",
    "### Practical Uses\n",
    "\n",
    "The most common use of Redis strings is caching, such as:\n",
    "\n",
    "- API responses\n",
    "- Session storage\n",
    "- HTML pages\n",
    "\n",
    "Strings are also useful for counters, with built-in support for incrementing and decrementing integers and floating-point values.\n",
    "\n",
    "### Storing and Retrieving Strings\n",
    "\n",
    "To create a string, use the `SET` command with a key and value. Example: `SET user:101:time-zone UTC+8`\n",
    "\n",
    "\n",
    "Redis replies with `OK`, confirming the value was stored. To retrieve it, use the `GET` command: `GET user:101:time-zone`\n"
   ]
  },
  {
   "cell_type": "code",
   "execution_count": null,
   "id": "b35b514b",
   "metadata": {},
   "outputs": [
    {
     "name": "stdout",
     "output_type": "stream",
     "text": [
      "OK\n",
      "\"UTC+8\"\n"
     ]
    }
   ],
   "source": [
    "''' \n",
    "Using redis-cli:\n",
    "'''\n",
    "\n",
    "!redis-cli -h 127.0.0.1 -p 6379 SET user:101:time-zone UTC+8\n",
    "!redis-cli -h 127.0.0.1 -p 6379 GET user:101:time-zone"
   ]
  },
  {
   "cell_type": "code",
   "execution_count": null,
   "id": "c83b9129",
   "metadata": {},
   "outputs": [
    {
     "data": {
      "text/plain": [
       "'UTC+8'"
      ]
     },
     "execution_count": 8,
     "metadata": {},
     "output_type": "execute_result"
    }
   ],
   "source": [
    "''' \n",
    "Using Python (API):\n",
    "'''\n",
    "\n",
    "r.set(\"user:101:time-zone\", \"UTC+8\")\n",
    "val = r.get(\"user:101:time-zone\")\n",
    "val.decode()"
   ]
  },
  {
   "cell_type": "code",
   "execution_count": null,
   "id": "12db54d7",
   "metadata": {},
   "outputs": [
    {
     "name": "stdout",
     "output_type": "stream",
     "text": [
      "UTC+8\n"
     ]
    }
   ],
   "source": [
    "''' \n",
    "Using Python (Raw Redis Command):\n",
    "'''\n",
    "\n",
    "r.execute_command(\"SET\", \"user:101:time-zone\", \"UTC+8\")\n",
    "print(r.execute_command(\"GET\", \"user:101:time-zone\").decode())\n"
   ]
  },
  {
   "cell_type": "markdown",
   "id": "8263bb7d",
   "metadata": {},
   "source": [
    "### Caching JSON Objects\n",
    "\n",
    "Strings can store JSON responses, which is helpful when caching results that don’t change often. For example, instead of repeatedly querying a data warehouse, cache the response under a key like `usage:63`.\n",
    "\n",
    "When caching, you can set an expiration time with the `EX` option: `SET usage:63 \"{...JSON data...}\" EX 7200`\n",
    "\n",
    "This sets the key to expire in 7,200 seconds (two hours). You can check remaining time with the `TTL` command."
   ]
  },
  {
   "cell_type": "code",
   "execution_count": 10,
   "id": "478d96ea",
   "metadata": {},
   "outputs": [
    {
     "data": {
      "text/plain": [
       "True"
      ]
     },
     "execution_count": 10,
     "metadata": {},
     "output_type": "execute_result"
    }
   ],
   "source": [
    "r.execute_command(\"SET\", \"usage:63\", \"{...JSON data...}\", \"EX\", 7200)"
   ]
  },
  {
   "cell_type": "code",
   "execution_count": 12,
   "id": "d127b1e9",
   "metadata": {},
   "outputs": [
    {
     "name": "stdout",
     "output_type": "stream",
     "text": [
      "7142\n",
      "7142349\n"
     ]
    }
   ],
   "source": [
    "print(r.ttl(\"usage:63\")) #seconds\n",
    "print(r.pttl(\"usage:63\")) #milliseconds\n",
    "# Returns remaining time. -1 = no expiry. -2 = key missing."
   ]
  },
  {
   "cell_type": "markdown",
   "id": "c57522a3",
   "metadata": {},
   "source": [
    "### Incrementing and Decrementing\n",
    "\n",
    "Redis strings can also be manipulated numerically.\n",
    "\n",
    "- `INCR key` increments the value by 1.\n",
    "- `INCRBY key N` increments the value by N.\n",
    "- Using a negative number decrements the value.\n",
    "- If the key does not exist, Redis creates it automatically."
   ]
  },
  {
   "cell_type": "code",
   "execution_count": 13,
   "id": "4d0b87f6",
   "metadata": {},
   "outputs": [
    {
     "name": "stdout",
     "output_type": "stream",
     "text": [
      "visit-count = 1\n",
      "credit-balance = 40\n",
      "credit-balance = 70\n",
      "credit-balance = 20\n"
     ]
    }
   ],
   "source": [
    "# increment visit count by 1 (creates key with 1 if not exist)\n",
    "r.execute_command(\"INCR\", \"user:23:visit-count\")\n",
    "print(\"visit-count =\", r.get(\"user:23:visit-count\").decode())\n",
    "\n",
    "# set credit balance to 40 (overwrite if exists)\n",
    "r.execute_command(\"SET\", \"user:23:credit-balance\", 40)\n",
    "print(\"credit-balance =\", r.get(\"user:23:credit-balance\").decode())\n",
    "\n",
    "# add 30 to credit balance (40 → 70)\n",
    "r.execute_command(\"INCRBY\", \"user:23:credit-balance\", 30)\n",
    "print(\"credit-balance =\", r.get(\"user:23:credit-balance\").decode())\n",
    "\n",
    "# subtract 50 from credit balance (70 → 20)\n",
    "r.execute_command(\"INCRBY\", \"user:23:credit-balance\", -50)\n",
    "print(\"credit-balance =\", r.get(\"user:23:credit-balance\").decode())"
   ]
  },
  {
   "cell_type": "markdown",
   "id": "0e4601fe",
   "metadata": {},
   "source": [
    "### Key Takeaways\n",
    "\n",
    "- Redis strings are the fundamental data type.\n",
    "- They can store text, numbers, JSON, or binary data.\n",
    "- Strings with expirations are ideal for caching.\n",
    "- They support built-in increment and decrement operations."
   ]
  }
 ],
 "metadata": {
  "kernelspec": {
   "display_name": ".venv",
   "language": "python",
   "name": "python3"
  },
  "language_info": {
   "codemirror_mode": {
    "name": "ipython",
    "version": 3
   },
   "file_extension": ".py",
   "mimetype": "text/x-python",
   "name": "python",
   "nbconvert_exporter": "python",
   "pygments_lexer": "ipython3",
   "version": "3.13.7"
  }
 },
 "nbformat": 4,
 "nbformat_minor": 5
}
