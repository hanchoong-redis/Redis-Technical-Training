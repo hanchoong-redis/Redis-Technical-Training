{
 "cells": [
  {
   "cell_type": "code",
   "execution_count": 4,
   "id": "6c0d838a",
   "metadata": {},
   "outputs": [
    {
     "name": "stdout",
     "output_type": "stream",
     "text": [
      "Requirement already satisfied: youtube-transcript-api in /Users/han.choong/Desktop/projects/lora/.venv/lib/python3.13/site-packages (1.2.2)\n",
      "Requirement already satisfied: defusedxml<0.8.0,>=0.7.1 in /Users/han.choong/Desktop/projects/lora/.venv/lib/python3.13/site-packages (from youtube-transcript-api) (0.7.1)\n",
      "Requirement already satisfied: requests in /Users/han.choong/Desktop/projects/lora/.venv/lib/python3.13/site-packages (from youtube-transcript-api) (2.32.5)\n",
      "Requirement already satisfied: charset_normalizer<4,>=2 in /Users/han.choong/Desktop/projects/lora/.venv/lib/python3.13/site-packages (from requests->youtube-transcript-api) (3.4.3)\n",
      "Requirement already satisfied: idna<4,>=2.5 in /Users/han.choong/Desktop/projects/lora/.venv/lib/python3.13/site-packages (from requests->youtube-transcript-api) (3.10)\n",
      "Requirement already satisfied: urllib3<3,>=1.21.1 in /Users/han.choong/Desktop/projects/lora/.venv/lib/python3.13/site-packages (from requests->youtube-transcript-api) (2.5.0)\n",
      "Requirement already satisfied: certifi>=2017.4.17 in /Users/han.choong/Desktop/projects/lora/.venv/lib/python3.13/site-packages (from requests->youtube-transcript-api) (2025.8.3)\n"
     ]
    }
   ],
   "source": [
    "!pip install --upgrade youtube-transcript-api"
   ]
  },
  {
   "cell_type": "code",
   "execution_count": 8,
   "id": "91e0ef89",
   "metadata": {},
   "outputs": [],
   "source": [
    "from youtube_transcript_api import YouTubeTranscriptApi\n",
    "video_id=\"202yxNkUJyE\"\n",
    "ytt_api=YouTubeTranscriptApi()\n",
    "fetched_transcription=ytt_api.fetch(video_id)"
   ]
  },
  {
   "cell_type": "code",
   "execution_count": 13,
   "id": "129aaedb",
   "metadata": {},
   "outputs": [
    {
     "name": "stdout",
     "output_type": "stream",
     "text": [
      "hello thanks for tuning in to K RDS Redis is number one hit station join me for a quick intro to lists one of the many Redis data types in this video I'll explain what Redis lists are how they work and how they'll help us organize and deliver round-the-clock hits you want to turn up the volume on this one alright so think of a list as an ordered sequence of strings comparable to a Java ArrayList a JavaScript array or a Python list lists are great for storing strings but you can also use them to implement stacks and queues in our example today we'll be using lists to represent a radio stations playlist each playlist is effectively a queue will learn how to add and remove songs how to view the next five songs and how to see how many songs we have left to play for our radio station we'll keep a Redis list called playlist each element in our list will be the ID of the song when adding new elements we say that we're pushing them on to the list we push elements on to the right-hand side of the list using the arc push command fill Carlin's classic hits Sussudio that's under the song 8025 so we'll start the number 25 in our queue our command will be our push playlist 25 Sade's smooth operator that's 71 our next command will be our push playlist 71 now that we have some smooth grooves all queued up it's just a matter of removing the first one we pushed into our playlist to know which song to play next since we're pushing all of our songs to the right hand side we'll remove or pop the songs from the left hand side the command remove an element from our queue is El pop solo run el pop playlist once we've popped the next song ID we'll get the song from our database and play it on air now that we've stored our songs in a queue how do we find the next five songs scheduled to play we'll use the El range command the El range command returns elements within a list between a given start and end index offset here we're asking for the first two v elements so our starting index is zero and our ending index is for the complete out range command is el range playlist zero or lastly we'll want to ensure our playlist is adequately full of songs otherwise we'll have radio segments to check the length of a Redis list use the El Len command ll n playlist returns the number of items and our q7 okay let's talk about the performance of the various list commands we've covered ll pop our push in Ln R all o of one constant time complexity operations so performance isn't dependent on the length of the list constant time complexity is as efficient as it gets el range is o of S Plus n where s is a distance of the start offset from the head and n is a number of elements in a specified range need to be careful with L range especially when dealing with extra long lists or when we're treating thousands or more elements okay let's review what we've covered in this segment we've learned how to model a queue using a list and it's our push and L pop commands we learned how to get the first five elements from the list with L range we've also learned how to get the length of a list using L Len what will you do with Redis lists a single list can hold over four billion entries you don't have to rock this Jam on repeat and lists aren't just for what you might normally think of as lists you tak you just use our push and L pop need a stack use our push in our pop traversal list remember L range to learn more about Vettes lists tune in to our free online course introduction to Redis data structures it's part of Redis University our online learning platform for all things Redis thanks for joining me in this Redis list listening session hope to see you again and don't touch that dial [Music] you [Music]\n"
     ]
    }
   ],
   "source": [
    "print(' '.join([x.text for x in fetched_transcription.snippets]))"
   ]
  },
  {
   "cell_type": "code",
   "execution_count": 14,
   "id": "0c4dd840",
   "metadata": {},
   "outputs": [],
   "source": [
    "transcript_list = ytt_api.list(video_id)"
   ]
  },
  {
   "cell_type": "code",
   "execution_count": 15,
   "id": "58775dd7",
   "metadata": {},
   "outputs": [
    {
     "data": {
      "text/plain": [
       "<youtube_transcript_api._transcripts.TranscriptList at 0x1081bd090>"
      ]
     },
     "execution_count": 15,
     "metadata": {},
     "output_type": "execute_result"
    }
   ],
   "source": [
    "transcript_list"
   ]
  },
  {
   "cell_type": "code",
   "execution_count": 16,
   "id": "3b4bc8f3",
   "metadata": {},
   "outputs": [],
   "source": [
    "transcript = transcript_list.find_transcript(['de', 'en'])"
   ]
  },
  {
   "cell_type": "code",
   "execution_count": 17,
   "id": "afe86cd7",
   "metadata": {},
   "outputs": [
    {
     "data": {
      "text/plain": [
       "<youtube_transcript_api._transcripts.Transcript at 0x1088d1480>"
      ]
     },
     "execution_count": 17,
     "metadata": {},
     "output_type": "execute_result"
    }
   ],
   "source": [
    "transcript"
   ]
  },
  {
   "cell_type": "code",
   "execution_count": 19,
   "id": "276962d2",
   "metadata": {},
   "outputs": [],
   "source": [
    "fetched_transcription=transcript.fetch()\n"
   ]
  },
  {
   "cell_type": "code",
   "execution_count": 20,
   "id": "f19a1b5e",
   "metadata": {},
   "outputs": [
    {
     "data": {
      "text/plain": [
       "FetchedTranscript(snippets=[FetchedTranscriptSnippet(text='hello thanks for tuning in to K RDS', start=0.23, duration=5.62), FetchedTranscriptSnippet(text='Redis is number one hit station join me', start=3.24, duration=4.559), FetchedTranscriptSnippet(text='for a quick intro to lists one of the', start=5.85, duration=4.41), FetchedTranscriptSnippet(text=\"many Redis data types in this video I'll\", start=7.799, duration=4.741), FetchedTranscriptSnippet(text='explain what Redis lists are how they', start=10.26, duration=3.78), FetchedTranscriptSnippet(text=\"work and how they'll help us organize\", start=12.54, duration=3.69), FetchedTranscriptSnippet(text='and deliver round-the-clock hits you', start=14.04, duration=5.6), FetchedTranscriptSnippet(text='want to turn up the volume on this one', start=16.23, duration=3.41), FetchedTranscriptSnippet(text='alright so think of a list as an ordered', start=23.119, duration=5.141), FetchedTranscriptSnippet(text='sequence of strings comparable to a Java', start=26.22, duration=5.069), FetchedTranscriptSnippet(text='ArrayList a JavaScript array or a Python', start=28.26, duration=5.819), FetchedTranscriptSnippet(text='list lists are great for storing strings', start=31.289, duration=4.501), FetchedTranscriptSnippet(text='but you can also use them to implement', start=34.079, duration=4.441), FetchedTranscriptSnippet(text='stacks and queues in our example today', start=35.79, duration=4.83), FetchedTranscriptSnippet(text=\"we'll be using lists to represent a\", start=38.52, duration=5.129), FetchedTranscriptSnippet(text='radio stations playlist each playlist is', start=40.62, duration=5.4), FetchedTranscriptSnippet(text='effectively a queue will learn how to', start=43.649, duration=4.741), FetchedTranscriptSnippet(text='add and remove songs how to view the', start=46.02, duration=4.65), FetchedTranscriptSnippet(text='next five songs and how to see how many', start=48.39, duration=5.189), FetchedTranscriptSnippet(text='songs we have left to play for our radio', start=50.67, duration=4.86), FetchedTranscriptSnippet(text=\"station we'll keep a Redis list called\", start=53.579, duration=4.651), FetchedTranscriptSnippet(text='playlist each element in our list will', start=55.53, duration=4.919), FetchedTranscriptSnippet(text='be the ID of the song when adding new', start=58.23, duration=4.079), FetchedTranscriptSnippet(text=\"elements we say that we're pushing them\", start=60.449, duration=4.561), FetchedTranscriptSnippet(text='on to the list we push elements on to', start=62.309, duration=4.231), FetchedTranscriptSnippet(text='the right-hand side of the list using', start=65.01, duration=4.289), FetchedTranscriptSnippet(text=\"the arc push command fill Carlin's\", start=66.54, duration=4.079), FetchedTranscriptSnippet(text='classic hits Sussudio', start=69.299, duration=4.231), FetchedTranscriptSnippet(text=\"that's under the song 8025 so we'll\", start=70.619, duration=5.491), FetchedTranscriptSnippet(text='start the number 25 in our queue our', start=73.53, duration=5.87), FetchedTranscriptSnippet(text='command will be our push playlist 25', start=76.11, duration=5.46), FetchedTranscriptSnippet(text=\"Sade's smooth operator\", start=79.4, duration=4.81), FetchedTranscriptSnippet(text=\"that's 71 our next command will be our\", start=81.57, duration=7.95), FetchedTranscriptSnippet(text='push playlist 71 now that we have some', start=84.21, duration=7.86), FetchedTranscriptSnippet(text=\"smooth grooves all queued up it's just a\", start=89.52, duration=3.93), FetchedTranscriptSnippet(text='matter of removing the first one we', start=92.07, duration=3.06), FetchedTranscriptSnippet(text='pushed into our playlist to know which', start=93.45, duration=2.94), FetchedTranscriptSnippet(text='song to play next', start=95.13, duration=3.51), FetchedTranscriptSnippet(text=\"since we're pushing all of our songs to\", start=96.39, duration=4.89), FetchedTranscriptSnippet(text=\"the right hand side we'll remove or pop\", start=98.64, duration=5.28), FetchedTranscriptSnippet(text='the songs from the left hand side the', start=101.28, duration=4.47), FetchedTranscriptSnippet(text='command remove an element from our queue', start=103.92, duration=5.6), FetchedTranscriptSnippet(text='is El pop solo run el pop playlist', start=105.75, duration=6.57), FetchedTranscriptSnippet(text=\"once we've popped the next song ID we'll\", start=109.52, duration=4.48), FetchedTranscriptSnippet(text='get the song from our database and play', start=112.32, duration=4.409), FetchedTranscriptSnippet(text=\"it on air now that we've stored our\", start=114.0, duration=4.979), FetchedTranscriptSnippet(text='songs in a queue how do we find the next', start=116.729, duration=4.651), FetchedTranscriptSnippet(text=\"five songs scheduled to play we'll use\", start=118.979, duration=5.191), FetchedTranscriptSnippet(text='the El range command the El range', start=121.38, duration=4.65), FetchedTranscriptSnippet(text='command returns elements within a list', start=124.17, duration=3.929), FetchedTranscriptSnippet(text='between a given start and end index', start=126.03, duration=4.86), FetchedTranscriptSnippet(text=\"offset here we're asking for the first\", start=128.099, duration=5.581), FetchedTranscriptSnippet(text='two v elements so our starting index is', start=130.89, duration=5.79), FetchedTranscriptSnippet(text='zero and our ending index is for the', start=133.68, duration=5.25), FetchedTranscriptSnippet(text='complete out range command is el range', start=136.68, duration=3.21), FetchedTranscriptSnippet(text='playlist', start=138.93, duration=5.91), FetchedTranscriptSnippet(text=\"zero or lastly we'll want to ensure our\", start=139.89, duration=6.83), FetchedTranscriptSnippet(text='playlist is adequately full of songs', start=144.84, duration=8.399), FetchedTranscriptSnippet(text=\"otherwise we'll have radio segments to\", start=146.72, duration=8.739), FetchedTranscriptSnippet(text='check the length of a Redis list use the', start=153.239, duration=5.97), FetchedTranscriptSnippet(text='El Len command ll n playlist returns the', start=155.459, duration=8.191), FetchedTranscriptSnippet(text='number of items and our q7 okay', start=159.209, duration=6.03), FetchedTranscriptSnippet(text=\"let's talk about the performance of the\", start=163.65, duration=4.26), FetchedTranscriptSnippet(text=\"various list commands we've covered ll\", start=165.239, duration=5.851), FetchedTranscriptSnippet(text='pop our push in Ln R all o of one', start=167.91, duration=5.88), FetchedTranscriptSnippet(text='constant time complexity operations so', start=171.09, duration=4.17), FetchedTranscriptSnippet(text=\"performance isn't dependent on the\", start=173.79, duration=3.57), FetchedTranscriptSnippet(text='length of the list constant time', start=175.26, duration=4.38), FetchedTranscriptSnippet(text='complexity is as efficient as it gets', start=177.36, duration=6.45), FetchedTranscriptSnippet(text='el range is o of S Plus n where s is a', start=179.64, duration=5.79), FetchedTranscriptSnippet(text='distance of the start offset from the', start=183.81, duration=4.11), FetchedTranscriptSnippet(text='head and n is a number of elements in a', start=185.43, duration=5.01), FetchedTranscriptSnippet(text='specified range need to be careful with', start=187.92, duration=4.11), FetchedTranscriptSnippet(text='L range especially when dealing with', start=190.44, duration=3.75), FetchedTranscriptSnippet(text=\"extra long lists or when we're treating\", start=192.03, duration=5.459), FetchedTranscriptSnippet(text='thousands or more elements okay', start=194.19, duration=5.1), FetchedTranscriptSnippet(text=\"let's review what we've covered in this\", start=197.489, duration=3.78), FetchedTranscriptSnippet(text=\"segment we've learned how to model a\", start=199.29, duration=4.199), FetchedTranscriptSnippet(text=\"queue using a list and it's our push and\", start=201.269, duration=4.53), FetchedTranscriptSnippet(text='L pop commands we learned how to get the', start=203.489, duration=4.231), FetchedTranscriptSnippet(text='first five elements from the list with L', start=205.799, duration=4.321), FetchedTranscriptSnippet(text=\"range we've also learned how to get the\", start=207.72, duration=5.78), FetchedTranscriptSnippet(text='length of a list using L Len', start=210.12, duration=5.94), FetchedTranscriptSnippet(text='what will you do with Redis lists a', start=213.5, duration=4.989), FetchedTranscriptSnippet(text='single list can hold over four billion', start=216.06, duration=4.679), FetchedTranscriptSnippet(text=\"entries you don't have to rock this Jam\", start=218.489, duration=4.741), FetchedTranscriptSnippet(text=\"on repeat and lists aren't just for what\", start=220.739, duration=4.92), FetchedTranscriptSnippet(text='you might normally think of as lists you', start=223.23, duration=5.759), FetchedTranscriptSnippet(text='tak you just use our push and L pop need', start=225.659, duration=5.22), FetchedTranscriptSnippet(text='a stack use our push in our pop', start=228.989, duration=3.06), FetchedTranscriptSnippet(text='traversal list', start=230.879, duration=4.08), FetchedTranscriptSnippet(text='remember L range to learn more about', start=232.049, duration=4.951), FetchedTranscriptSnippet(text='Vettes lists tune in to our free online', start=234.959, duration=3.931), FetchedTranscriptSnippet(text='course introduction to Redis data', start=237.0, duration=4.17), FetchedTranscriptSnippet(text=\"structures it's part of Redis University\", start=238.89, duration=4.349), FetchedTranscriptSnippet(text='our online learning platform for all', start=241.17, duration=4.14), FetchedTranscriptSnippet(text='things Redis thanks for joining me in', start=243.239, duration=4.441), FetchedTranscriptSnippet(text='this Redis list listening session hope', start=245.31, duration=3.899), FetchedTranscriptSnippet(text=\"to see you again and don't touch that\", start=247.68, duration=3.74), FetchedTranscriptSnippet(text='dial', start=249.209, duration=2.211), FetchedTranscriptSnippet(text='[Music]', start=252.95, duration=12.57), FetchedTranscriptSnippet(text='you', start=264.51, duration=4.079), FetchedTranscriptSnippet(text='[Music]', start=265.52, duration=3.069)], video_id='202yxNkUJyE', language='English (auto-generated)', language_code='en', is_generated=True)"
      ]
     },
     "execution_count": 20,
     "metadata": {},
     "output_type": "execute_result"
    }
   ],
   "source": [
    "fetched_transcription"
   ]
  },
  {
   "cell_type": "code",
   "execution_count": 21,
   "id": "478c9c3e",
   "metadata": {},
   "outputs": [
    {
     "name": "stdout",
     "output_type": "stream",
     "text": [
      "hello thanks for tuning in to K RDS Redis is number one hit station join me for a quick intro to lists one of the many Redis data types in this video I'll explain what Redis lists are how they work and how they'll help us organize and deliver round-the-clock hits you want to turn up the volume on this one alright so think of a list as an ordered sequence of strings comparable to a Java ArrayList a JavaScript array or a Python list lists are great for storing strings but you can also use them to implement stacks and queues in our example today we'll be using lists to represent a radio stations playlist each playlist is effectively a queue will learn how to add and remove songs how to view the next five songs and how to see how many songs we have left to play for our radio station we'll keep a Redis list called playlist each element in our list will be the ID of the song when adding new elements we say that we're pushing them on to the list we push elements on to the right-hand side of the list using the arc push command fill Carlin's classic hits Sussudio that's under the song 8025 so we'll start the number 25 in our queue our command will be our push playlist 25 Sade's smooth operator that's 71 our next command will be our push playlist 71 now that we have some smooth grooves all queued up it's just a matter of removing the first one we pushed into our playlist to know which song to play next since we're pushing all of our songs to the right hand side we'll remove or pop the songs from the left hand side the command remove an element from our queue is El pop solo run el pop playlist once we've popped the next song ID we'll get the song from our database and play it on air now that we've stored our songs in a queue how do we find the next five songs scheduled to play we'll use the El range command the El range command returns elements within a list between a given start and end index offset here we're asking for the first two v elements so our starting index is zero and our ending index is for the complete out range command is el range playlist zero or lastly we'll want to ensure our playlist is adequately full of songs otherwise we'll have radio segments to check the length of a Redis list use the El Len command ll n playlist returns the number of items and our q7 okay let's talk about the performance of the various list commands we've covered ll pop our push in Ln R all o of one constant time complexity operations so performance isn't dependent on the length of the list constant time complexity is as efficient as it gets el range is o of S Plus n where s is a distance of the start offset from the head and n is a number of elements in a specified range need to be careful with L range especially when dealing with extra long lists or when we're treating thousands or more elements okay let's review what we've covered in this segment we've learned how to model a queue using a list and it's our push and L pop commands we learned how to get the first five elements from the list with L range we've also learned how to get the length of a list using L Len what will you do with Redis lists a single list can hold over four billion entries you don't have to rock this Jam on repeat and lists aren't just for what you might normally think of as lists you tak you just use our push and L pop need a stack use our push in our pop traversal list remember L range to learn more about Vettes lists tune in to our free online course introduction to Redis data structures it's part of Redis University our online learning platform for all things Redis thanks for joining me in this Redis list listening session hope to see you again and don't touch that dial [Music] you [Music]\n"
     ]
    }
   ],
   "source": [
    "print(' '.join([x.text for x in fetched_transcription.snippets]))"
   ]
  },
  {
   "cell_type": "code",
   "execution_count": 23,
   "id": "fd359546",
   "metadata": {},
   "outputs": [
    {
     "name": "stdout",
     "output_type": "stream",
     "text": [
      "{\"lang\":\"en\",\"availableLangs\":[\"en\",\"en-US\"],\"content\":[{\"text\":\"hello thanks for tuning in to K RDS\",\"duration\":5620,\"offset\":230,\"lang\":\"en\"},{\"text\":\"Redis is number one hit station join me\",\"duration\":4559,\"offset\":3240,\"lang\":\"en\"},{\"text\":\"for a quick intro to lists one of the\",\"duration\":4410,\"offset\":5850,\"lang\":\"en\"},{\"text\":\"many Redis data types in this video I'll\",\"duration\":4741,\"offset\":7799,\"lang\":\"en\"},{\"text\":\"explain what Redis lists are how they\",\"duration\":3780,\"offset\":10260,\"lang\":\"en\"},{\"text\":\"work and how they'll help us organize\",\"duration\":3690,\"offset\":12540,\"lang\":\"en\"},{\"text\":\"and deliver round-the-clock hits you\",\"duration\":5600,\"offset\":14040,\"lang\":\"en\"},{\"text\":\"want to turn up the volume on this one\",\"duration\":3410,\"offset\":16230,\"lang\":\"en\"},{\"text\":\"alright so think of a list as an ordered\",\"duration\":5141,\"offset\":23119,\"lang\":\"en\"},{\"text\":\"sequence of strings comparable to a Java\",\"duration\":5069,\"offset\":26220,\"lang\":\"en\"},{\"text\":\"ArrayList a JavaScript array or a Python\",\"duration\":5819,\"offset\":28260,\"lang\":\"en\"},{\"text\":\"list lists are great for storing strings\",\"duration\":4501,\"offset\":31289,\"lang\":\"en\"},{\"text\":\"but you can also use them to implement\",\"duration\":4441,\"offset\":34079,\"lang\":\"en\"},{\"text\":\"stacks and queues in our example today\",\"duration\":4830,\"offset\":35790,\"lang\":\"en\"},{\"text\":\"we'll be using lists to represent a\",\"duration\":5129,\"offset\":38520,\"lang\":\"en\"},{\"text\":\"radio stations playlist each playlist is\",\"duration\":5400,\"offset\":40620,\"lang\":\"en\"},{\"text\":\"effectively a queue will learn how to\",\"duration\":4741,\"offset\":43649,\"lang\":\"en\"},{\"text\":\"add and remove songs how to view the\",\"duration\":4650,\"offset\":46020,\"lang\":\"en\"},{\"text\":\"next five songs and how to see how many\",\"duration\":5189,\"offset\":48390,\"lang\":\"en\"},{\"text\":\"songs we have left to play for our radio\",\"duration\":4860,\"offset\":50670,\"lang\":\"en\"},{\"text\":\"station we'll keep a Redis list called\",\"duration\":4651,\"offset\":53579,\"lang\":\"en\"},{\"text\":\"playlist each element in our list will\",\"duration\":4919,\"offset\":55530,\"lang\":\"en\"},{\"text\":\"be the ID of the song when adding new\",\"duration\":4078.9999999999995,\"offset\":58230,\"lang\":\"en\"},{\"text\":\"elements we say that we're pushing them\",\"duration\":4561,\"offset\":60449,\"lang\":\"en\"},{\"text\":\"on to the list we push elements on to\",\"duration\":4231,\"offset\":62309,\"lang\":\"en\"},{\"text\":\"the right-hand side of the list using\",\"duration\":4289,\"offset\":65010.00000000001,\"lang\":\"en\"},{\"text\":\"the arc push command fill Carlin's\",\"duration\":4078.9999999999995,\"offset\":66540,\"lang\":\"en\"},{\"text\":\"classic hits Sussudio\",\"duration\":4231,\"offset\":69299,\"lang\":\"en\"},{\"text\":\"that's under the song 8025 so we'll\",\"duration\":5491,\"offset\":70619,\"lang\":\"en\"},{\"text\":\"start the number 25 in our queue our\",\"duration\":5870,\"offset\":73530,\"lang\":\"en\"},{\"text\":\"command will be our push playlist 25\",\"duration\":5460,\"offset\":76110,\"lang\":\"en\"},{\"text\":\"Sade's smooth operator\",\"duration\":4810,\"offset\":79400,\"lang\":\"en\"},{\"text\":\"that's 71 our next command will be our\",\"duration\":7950,\"offset\":81570,\"lang\":\"en\"},{\"text\":\"push playlist 71 now that we have some\",\"duration\":7860,\"offset\":84210,\"lang\":\"en\"},{\"text\":\"smooth grooves all queued up it's just a\",\"duration\":3930,\"offset\":89520,\"lang\":\"en\"},{\"text\":\"matter of removing the first one we\",\"duration\":3060,\"offset\":92070,\"lang\":\"en\"},{\"text\":\"pushed into our playlist to know which\",\"duration\":2940,\"offset\":93450,\"lang\":\"en\"},{\"text\":\"song to play next\",\"duration\":3510,\"offset\":95130,\"lang\":\"en\"},{\"text\":\"since we're pushing all of our songs to\",\"duration\":4890,\"offset\":96390,\"lang\":\"en\"},{\"text\":\"the right hand side we'll remove or pop\",\"duration\":5280,\"offset\":98640,\"lang\":\"en\"},{\"text\":\"the songs from the left hand side the\",\"duration\":4470,\"offset\":101280,\"lang\":\"en\"},{\"text\":\"command remove an element from our queue\",\"duration\":5600,\"offset\":103920,\"lang\":\"en\"},{\"text\":\"is El pop solo run el pop playlist\",\"duration\":6570,\"offset\":105750,\"lang\":\"en\"},{\"text\":\"once we've popped the next song ID we'll\",\"duration\":4480,\"offset\":109520,\"lang\":\"en\"},{\"text\":\"get the song from our database and play\",\"duration\":4409,\"offset\":112320,\"lang\":\"en\"},{\"text\":\"it on air now that we've stored our\",\"duration\":4979,\"offset\":114000,\"lang\":\"en\"},{\"text\":\"songs in a queue how do we find the next\",\"duration\":4651,\"offset\":116729,\"lang\":\"en\"},{\"text\":\"five songs scheduled to play we'll use\",\"duration\":5191,\"offset\":118979,\"lang\":\"en\"},{\"text\":\"the El range command the El range\",\"duration\":4650,\"offset\":121380,\"lang\":\"en\"},{\"text\":\"command returns elements within a list\",\"duration\":3929,\"offset\":124170,\"lang\":\"en\"},{\"text\":\"between a given start and end index\",\"duration\":4860,\"offset\":126030,\"lang\":\"en\"},{\"text\":\"offset here we're asking for the first\",\"duration\":5581,\"offset\":128098.99999999999,\"lang\":\"en\"},{\"text\":\"two v elements so our starting index is\",\"duration\":5790,\"offset\":130889.99999999999,\"lang\":\"en\"},{\"text\":\"zero and our ending index is for the\",\"duration\":5250,\"offset\":133680,\"lang\":\"en\"},{\"text\":\"complete out range command is el range\",\"duration\":3210,\"offset\":136680,\"lang\":\"en\"},{\"text\":\"playlist\",\"duration\":5910,\"offset\":138930,\"lang\":\"en\"},{\"text\":\"zero or lastly we'll want to ensure our\",\"duration\":6830,\"offset\":139890,\"lang\":\"en\"},{\"text\":\"playlist is adequately full of songs\",\"duration\":8399,\"offset\":144840,\"lang\":\"en\"},{\"text\":\"otherwise we'll have radio segments to\",\"duration\":8739,\"offset\":146720,\"lang\":\"en\"},{\"text\":\"check the length of a Redis list use the\",\"duration\":5970,\"offset\":153239,\"lang\":\"en\"},{\"text\":\"El Len command ll n playlist returns the\",\"duration\":8191.000000000001,\"offset\":155459,\"lang\":\"en\"},{\"text\":\"number of items and our q7 okay\",\"duration\":6030,\"offset\":159209,\"lang\":\"en\"},{\"text\":\"let's talk about the performance of the\",\"duration\":4260,\"offset\":163650,\"lang\":\"en\"},{\"text\":\"various list commands we've covered ll\",\"duration\":5851,\"offset\":165239,\"lang\":\"en\"},{\"text\":\"pop our push in Ln R all o of one\",\"duration\":5880,\"offset\":167910,\"lang\":\"en\"},{\"text\":\"constant time complexity operations so\",\"duration\":4170,\"offset\":171090,\"lang\":\"en\"},{\"text\":\"performance isn't dependent on the\",\"duration\":3570,\"offset\":173790,\"lang\":\"en\"},{\"text\":\"length of the list constant time\",\"duration\":4380,\"offset\":175260,\"lang\":\"en\"},{\"text\":\"complexity is as efficient as it gets\",\"duration\":6450,\"offset\":177360,\"lang\":\"en\"},{\"text\":\"el range is o of S Plus n where s is a\",\"duration\":5790,\"offset\":179640,\"lang\":\"en\"},{\"text\":\"distance of the start offset from the\",\"duration\":4110,\"offset\":183810,\"lang\":\"en\"},{\"text\":\"head and n is a number of elements in a\",\"duration\":5010,\"offset\":185430,\"lang\":\"en\"},{\"text\":\"specified range need to be careful with\",\"duration\":4110,\"offset\":187920,\"lang\":\"en\"},{\"text\":\"L range especially when dealing with\",\"duration\":3750,\"offset\":190440,\"lang\":\"en\"},{\"text\":\"extra long lists or when we're treating\",\"duration\":5459,\"offset\":192030,\"lang\":\"en\"},{\"text\":\"thousands or more elements okay\",\"duration\":5100,\"offset\":194190,\"lang\":\"en\"},{\"text\":\"let's review what we've covered in this\",\"duration\":3780,\"offset\":197489,\"lang\":\"en\"},{\"text\":\"segment we've learned how to model a\",\"duration\":4199,\"offset\":199290,\"lang\":\"en\"},{\"text\":\"queue using a list and it's our push and\",\"duration\":4530,\"offset\":201269,\"lang\":\"en\"},{\"text\":\"L pop commands we learned how to get the\",\"duration\":4231,\"offset\":203489,\"lang\":\"en\"},{\"text\":\"first five elements from the list with L\",\"duration\":4321,\"offset\":205799,\"lang\":\"en\"},{\"text\":\"range we've also learned how to get the\",\"duration\":5780,\"offset\":207720,\"lang\":\"en\"},{\"text\":\"length of a list using L Len\",\"duration\":5940,\"offset\":210120,\"lang\":\"en\"},{\"text\":\"what will you do with Redis lists a\",\"duration\":4989,\"offset\":213500,\"lang\":\"en\"},{\"text\":\"single list can hold over four billion\",\"duration\":4679,\"offset\":216060,\"lang\":\"en\"},{\"text\":\"entries you don't have to rock this Jam\",\"duration\":4741,\"offset\":218489,\"lang\":\"en\"},{\"text\":\"on repeat and lists aren't just for what\",\"duration\":4920,\"offset\":220739,\"lang\":\"en\"},{\"text\":\"you might normally think of as lists you\",\"duration\":5759,\"offset\":223230,\"lang\":\"en\"},{\"text\":\"tak you just use our push and L pop need\",\"duration\":5220,\"offset\":225659,\"lang\":\"en\"},{\"text\":\"a stack use our push in our pop\",\"duration\":3060,\"offset\":228989,\"lang\":\"en\"},{\"text\":\"traversal list\",\"duration\":4080,\"offset\":230879,\"lang\":\"en\"},{\"text\":\"remember L range to learn more about\",\"duration\":4951,\"offset\":232049,\"lang\":\"en\"},{\"text\":\"Vettes lists tune in to our free online\",\"duration\":3931,\"offset\":234959,\"lang\":\"en\"},{\"text\":\"course introduction to Redis data\",\"duration\":4170,\"offset\":237000,\"lang\":\"en\"},{\"text\":\"structures it's part of Redis University\",\"duration\":4349,\"offset\":238890,\"lang\":\"en\"},{\"text\":\"our online learning platform for all\",\"duration\":4140,\"offset\":241170,\"lang\":\"en\"},{\"text\":\"things Redis thanks for joining me in\",\"duration\":4441,\"offset\":243239,\"lang\":\"en\"},{\"text\":\"this Redis list listening session hope\",\"duration\":3899,\"offset\":245310,\"lang\":\"en\"},{\"text\":\"to see you again and don't touch that\",\"duration\":3740,\"offset\":247680,\"lang\":\"en\"},{\"text\":\"dial\",\"duration\":2211,\"offset\":249209,\"lang\":\"en\"},{\"text\":\"[Music]\",\"duration\":12570,\"offset\":252950,\"lang\":\"en\"},{\"text\":\"you\",\"duration\":4078.9999999999995,\"offset\":264510,\"lang\":\"en\"},{\"text\":\"[Music]\",\"duration\":3069,\"offset\":265520,\"lang\":\"en\"}]}"
     ]
    }
   ],
   "source": [
    "!curl -X GET 'https://api.supadata.ai/v1/transcript?url=https://youtu.be/202yxNkUJyE' \\\n",
    "    -H 'x-api-key: sd_313cc959e6dc4625f1650c84d30b8685'"
   ]
  },
  {
   "cell_type": "code",
   "execution_count": 24,
   "id": "e9561b82",
   "metadata": {},
   "outputs": [
    {
     "name": "stdout",
     "output_type": "stream",
     "text": [
      "{'lang': 'en', 'availableLangs': ['en', 'en-US'], 'content': [{'lang': 'en', 'text': 'hello thanks for tuning in to K RDS', 'offset': 230, 'duration': 5620}, {'lang': 'en', 'text': 'Redis is number one hit station join me', 'offset': 3240, 'duration': 4559}, {'lang': 'en', 'text': 'for a quick intro to lists one of the', 'offset': 5850, 'duration': 4410}, {'lang': 'en', 'text': \"many Redis data types in this video I'll\", 'offset': 7799, 'duration': 4741}, {'lang': 'en', 'text': 'explain what Redis lists are how they', 'offset': 10260, 'duration': 3780}, {'lang': 'en', 'text': \"work and how they'll help us organize\", 'offset': 12540, 'duration': 3690}, {'lang': 'en', 'text': 'and deliver round-the-clock hits you', 'offset': 14040, 'duration': 5600}, {'lang': 'en', 'text': 'want to turn up the volume on this one', 'offset': 16230, 'duration': 3410}, {'lang': 'en', 'text': 'alright so think of a list as an ordered', 'offset': 23119, 'duration': 5141}, {'lang': 'en', 'text': 'sequence of strings comparable to a Java', 'offset': 26220, 'duration': 5069}, {'lang': 'en', 'text': 'ArrayList a JavaScript array or a Python', 'offset': 28260, 'duration': 5819}, {'lang': 'en', 'text': 'list lists are great for storing strings', 'offset': 31289, 'duration': 4501}, {'lang': 'en', 'text': 'but you can also use them to implement', 'offset': 34079, 'duration': 4441}, {'lang': 'en', 'text': 'stacks and queues in our example today', 'offset': 35790, 'duration': 4830}, {'lang': 'en', 'text': \"we'll be using lists to represent a\", 'offset': 38520, 'duration': 5129}, {'lang': 'en', 'text': 'radio stations playlist each playlist is', 'offset': 40620, 'duration': 5400}, {'lang': 'en', 'text': 'effectively a queue will learn how to', 'offset': 43649, 'duration': 4741}, {'lang': 'en', 'text': 'add and remove songs how to view the', 'offset': 46020, 'duration': 4650}, {'lang': 'en', 'text': 'next five songs and how to see how many', 'offset': 48390, 'duration': 5189}, {'lang': 'en', 'text': 'songs we have left to play for our radio', 'offset': 50670, 'duration': 4860}, {'lang': 'en', 'text': \"station we'll keep a Redis list called\", 'offset': 53579, 'duration': 4651}, {'lang': 'en', 'text': 'playlist each element in our list will', 'offset': 55530, 'duration': 4919}, {'lang': 'en', 'text': 'be the ID of the song when adding new', 'offset': 58230, 'duration': 4078.9999999999995}, {'lang': 'en', 'text': \"elements we say that we're pushing them\", 'offset': 60449, 'duration': 4561}, {'lang': 'en', 'text': 'on to the list we push elements on to', 'offset': 62309, 'duration': 4231}, {'lang': 'en', 'text': 'the right-hand side of the list using', 'offset': 65010.00000000001, 'duration': 4289}, {'lang': 'en', 'text': \"the arc push command fill Carlin's\", 'offset': 66540, 'duration': 4078.9999999999995}, {'lang': 'en', 'text': 'classic hits Sussudio', 'offset': 69299, 'duration': 4231}, {'lang': 'en', 'text': \"that's under the song 8025 so we'll\", 'offset': 70619, 'duration': 5491}, {'lang': 'en', 'text': 'start the number 25 in our queue our', 'offset': 73530, 'duration': 5870}, {'lang': 'en', 'text': 'command will be our push playlist 25', 'offset': 76110, 'duration': 5460}, {'lang': 'en', 'text': \"Sade's smooth operator\", 'offset': 79400, 'duration': 4810}, {'lang': 'en', 'text': \"that's 71 our next command will be our\", 'offset': 81570, 'duration': 7950}, {'lang': 'en', 'text': 'push playlist 71 now that we have some', 'offset': 84210, 'duration': 7860}, {'lang': 'en', 'text': \"smooth grooves all queued up it's just a\", 'offset': 89520, 'duration': 3930}, {'lang': 'en', 'text': 'matter of removing the first one we', 'offset': 92070, 'duration': 3060}, {'lang': 'en', 'text': 'pushed into our playlist to know which', 'offset': 93450, 'duration': 2940}, {'lang': 'en', 'text': 'song to play next', 'offset': 95130, 'duration': 3510}, {'lang': 'en', 'text': \"since we're pushing all of our songs to\", 'offset': 96390, 'duration': 4890}, {'lang': 'en', 'text': \"the right hand side we'll remove or pop\", 'offset': 98640, 'duration': 5280}, {'lang': 'en', 'text': 'the songs from the left hand side the', 'offset': 101280, 'duration': 4470}, {'lang': 'en', 'text': 'command remove an element from our queue', 'offset': 103920, 'duration': 5600}, {'lang': 'en', 'text': 'is El pop solo run el pop playlist', 'offset': 105750, 'duration': 6570}, {'lang': 'en', 'text': \"once we've popped the next song ID we'll\", 'offset': 109520, 'duration': 4480}, {'lang': 'en', 'text': 'get the song from our database and play', 'offset': 112320, 'duration': 4409}, {'lang': 'en', 'text': \"it on air now that we've stored our\", 'offset': 114000, 'duration': 4979}, {'lang': 'en', 'text': 'songs in a queue how do we find the next', 'offset': 116729, 'duration': 4651}, {'lang': 'en', 'text': \"five songs scheduled to play we'll use\", 'offset': 118979, 'duration': 5191}, {'lang': 'en', 'text': 'the El range command the El range', 'offset': 121380, 'duration': 4650}, {'lang': 'en', 'text': 'command returns elements within a list', 'offset': 124170, 'duration': 3929}, {'lang': 'en', 'text': 'between a given start and end index', 'offset': 126030, 'duration': 4860}, {'lang': 'en', 'text': \"offset here we're asking for the first\", 'offset': 128098.99999999999, 'duration': 5581}, {'lang': 'en', 'text': 'two v elements so our starting index is', 'offset': 130889.99999999999, 'duration': 5790}, {'lang': 'en', 'text': 'zero and our ending index is for the', 'offset': 133680, 'duration': 5250}, {'lang': 'en', 'text': 'complete out range command is el range', 'offset': 136680, 'duration': 3210}, {'lang': 'en', 'text': 'playlist', 'offset': 138930, 'duration': 5910}, {'lang': 'en', 'text': \"zero or lastly we'll want to ensure our\", 'offset': 139890, 'duration': 6830}, {'lang': 'en', 'text': 'playlist is adequately full of songs', 'offset': 144840, 'duration': 8399}, {'lang': 'en', 'text': \"otherwise we'll have radio segments to\", 'offset': 146720, 'duration': 8739}, {'lang': 'en', 'text': 'check the length of a Redis list use the', 'offset': 153239, 'duration': 5970}, {'lang': 'en', 'text': 'El Len command ll n playlist returns the', 'offset': 155459, 'duration': 8191.000000000001}, {'lang': 'en', 'text': 'number of items and our q7 okay', 'offset': 159209, 'duration': 6030}, {'lang': 'en', 'text': \"let's talk about the performance of the\", 'offset': 163650, 'duration': 4260}, {'lang': 'en', 'text': \"various list commands we've covered ll\", 'offset': 165239, 'duration': 5851}, {'lang': 'en', 'text': 'pop our push in Ln R all o of one', 'offset': 167910, 'duration': 5880}, {'lang': 'en', 'text': 'constant time complexity operations so', 'offset': 171090, 'duration': 4170}, {'lang': 'en', 'text': \"performance isn't dependent on the\", 'offset': 173790, 'duration': 3570}, {'lang': 'en', 'text': 'length of the list constant time', 'offset': 175260, 'duration': 4380}, {'lang': 'en', 'text': 'complexity is as efficient as it gets', 'offset': 177360, 'duration': 6450}, {'lang': 'en', 'text': 'el range is o of S Plus n where s is a', 'offset': 179640, 'duration': 5790}, {'lang': 'en', 'text': 'distance of the start offset from the', 'offset': 183810, 'duration': 4110}, {'lang': 'en', 'text': 'head and n is a number of elements in a', 'offset': 185430, 'duration': 5010}, {'lang': 'en', 'text': 'specified range need to be careful with', 'offset': 187920, 'duration': 4110}, {'lang': 'en', 'text': 'L range especially when dealing with', 'offset': 190440, 'duration': 3750}, {'lang': 'en', 'text': \"extra long lists or when we're treating\", 'offset': 192030, 'duration': 5459}, {'lang': 'en', 'text': 'thousands or more elements okay', 'offset': 194190, 'duration': 5100}, {'lang': 'en', 'text': \"let's review what we've covered in this\", 'offset': 197489, 'duration': 3780}, {'lang': 'en', 'text': \"segment we've learned how to model a\", 'offset': 199290, 'duration': 4199}, {'lang': 'en', 'text': \"queue using a list and it's our push and\", 'offset': 201269, 'duration': 4530}, {'lang': 'en', 'text': 'L pop commands we learned how to get the', 'offset': 203489, 'duration': 4231}, {'lang': 'en', 'text': 'first five elements from the list with L', 'offset': 205799, 'duration': 4321}, {'lang': 'en', 'text': \"range we've also learned how to get the\", 'offset': 207720, 'duration': 5780}, {'lang': 'en', 'text': 'length of a list using L Len', 'offset': 210120, 'duration': 5940}, {'lang': 'en', 'text': 'what will you do with Redis lists a', 'offset': 213500, 'duration': 4989}, {'lang': 'en', 'text': 'single list can hold over four billion', 'offset': 216060, 'duration': 4679}, {'lang': 'en', 'text': \"entries you don't have to rock this Jam\", 'offset': 218489, 'duration': 4741}, {'lang': 'en', 'text': \"on repeat and lists aren't just for what\", 'offset': 220739, 'duration': 4920}, {'lang': 'en', 'text': 'you might normally think of as lists you', 'offset': 223230, 'duration': 5759}, {'lang': 'en', 'text': 'tak you just use our push and L pop need', 'offset': 225659, 'duration': 5220}, {'lang': 'en', 'text': 'a stack use our push in our pop', 'offset': 228989, 'duration': 3060}, {'lang': 'en', 'text': 'traversal list', 'offset': 230879, 'duration': 4080}, {'lang': 'en', 'text': 'remember L range to learn more about', 'offset': 232049, 'duration': 4951}, {'lang': 'en', 'text': 'Vettes lists tune in to our free online', 'offset': 234959, 'duration': 3931}, {'lang': 'en', 'text': 'course introduction to Redis data', 'offset': 237000, 'duration': 4170}, {'lang': 'en', 'text': \"structures it's part of Redis University\", 'offset': 238890, 'duration': 4349}, {'lang': 'en', 'text': 'our online learning platform for all', 'offset': 241170, 'duration': 4140}, {'lang': 'en', 'text': 'things Redis thanks for joining me in', 'offset': 243239, 'duration': 4441}, {'lang': 'en', 'text': 'this Redis list listening session hope', 'offset': 245310, 'duration': 3899}, {'lang': 'en', 'text': \"to see you again and don't touch that\", 'offset': 247680, 'duration': 3740}, {'lang': 'en', 'text': 'dial', 'offset': 249209, 'duration': 2211}, {'lang': 'en', 'text': '[Music]', 'offset': 252950, 'duration': 12570}, {'lang': 'en', 'text': 'you', 'offset': 264510, 'duration': 4078.9999999999995}, {'lang': 'en', 'text': '[Music]', 'offset': 265520, 'duration': 3069}]}\n"
     ]
    }
   ],
   "source": [
    "import requests\n",
    "\n",
    "url = \"https://api.supadata.ai/v1/transcript\"\n",
    "params = {\"url\": \"https://youtu.be/202yxNkUJyE\"}\n",
    "headers = {\"x-api-key\": \"sd_313cc959e6dc4625f1650c84d30b8685\"}\n",
    "\n",
    "resp = requests.get(url, params=params, headers=headers)\n",
    "resp.raise_for_status()\n",
    "print(resp.json())"
   ]
  },
  {
   "cell_type": "code",
   "execution_count": null,
   "id": "3eaea328",
   "metadata": {},
   "outputs": [],
   "source": []
  }
 ],
 "metadata": {
  "kernelspec": {
   "display_name": ".venv",
   "language": "python",
   "name": "python3"
  },
  "language_info": {
   "codemirror_mode": {
    "name": "ipython",
    "version": 3
   },
   "file_extension": ".py",
   "mimetype": "text/x-python",
   "name": "python",
   "nbconvert_exporter": "python",
   "pygments_lexer": "ipython3",
   "version": "3.13.7"
  }
 },
 "nbformat": 4,
 "nbformat_minor": 5
}
