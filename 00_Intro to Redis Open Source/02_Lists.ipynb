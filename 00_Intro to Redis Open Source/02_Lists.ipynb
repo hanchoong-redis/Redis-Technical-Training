{
 "cells": [
  {
   "cell_type": "code",
   "execution_count": 21,
   "id": "a1c25dce",
   "metadata": {},
   "outputs": [],
   "source": [
    "!pip -q install redis redis-cli"
   ]
  },
  {
   "cell_type": "code",
   "execution_count": 22,
   "id": "7ed2c042",
   "metadata": {},
   "outputs": [],
   "source": [
    "import redis\n",
    "r = redis.Redis(host=\"127.0.0.1\", port=6379, db=0)"
   ]
  },
  {
   "cell_type": "markdown",
   "id": "3c4f9deb",
   "metadata": {},
   "source": [
    "## Redis Lists Explained - [Link to Video](https://youtu.be/202yxNkUJyE)\n",
    "\n",
    "### Introduction to Redis Lists\n",
    "\n",
    "A Redis List is an ordered sequence of strings, comparable to:\n",
    "\n",
    "- Java `ArrayList`\n",
    "- JavaScript `Array`\n",
    "- Python `list`\n",
    "\n",
    "Lists can be used to implement stacks and queues.  \n",
    "In this example, a Redis List models a radio station's playlist queue.\n",
    "\n",
    "### Creating a Playlist Queue\n",
    "\n",
    "We’ll model a radio station playlist as a Redis List. Each element is a song ID. Songs are added to the right side with `RPUSH`, removed from the left with `LPOP`, upcoming songs are retrieved with `LRANGE`, and the total count is checked with `LLEN`.\n",
    "\n",
    "### Adding Songs with RPUSH\n"
   ]
  },
  {
   "cell_type": "code",
   "execution_count": 25,
   "id": "b8d779fa",
   "metadata": {},
   "outputs": [
    {
     "name": "stdout",
     "output_type": "stream",
     "text": [
      "Playlist length: 9\n"
     ]
    }
   ],
   "source": [
    "# push elements to the right-hand side of the playlist\n",
    "r.execute_command(\"RPUSH\", \"playlist\", 25)\n",
    "r.execute_command(\"RPUSH\", \"playlist\", 71)\n",
    "\n",
    "# verify list length\n",
    "print(\"Playlist length:\", r.execute_command(\"LLEN\", \"playlist\"))"
   ]
  },
  {
   "cell_type": "markdown",
   "id": "271c7078",
   "metadata": {},
   "source": [
    "> **Sidenote**\n",
    ">\n",
    "> [Link: Redis RPUSH docs](https://redis.io/commands/rpush/)\n",
    ">\n",
    "> **Command**: `RPUSH` → Append one or multiple values to the end of a List.\n",
    ">\n",
    "> **Pattern**: `RPUSH key value [value ...]`\n",
    ">\n",
    "> **Example**: `RPUSH playlist 25 71`\n",
    ">\n",
    "> **Result**:\n",
    "> Returns the length of the List after the push."
   ]
  },
  {
   "cell_type": "markdown",
   "id": "c97e378a",
   "metadata": {},
   "source": [
    "### Removing Songs with LPOP"
   ]
  },
  {
   "cell_type": "code",
   "execution_count": 17,
   "id": "45af51c8",
   "metadata": {},
   "outputs": [
    {
     "name": "stdout",
     "output_type": "stream",
     "text": [
      "Next song to play: b'25'\n"
     ]
    }
   ],
   "source": [
    "# remove first element from the left-hand side of the playlist\n",
    "song_id = r.execute_command(\"LPOP\", \"playlist\")\n",
    "print(\"Next song to play:\", song_id)"
   ]
  },
  {
   "cell_type": "markdown",
   "id": "cfda0ce9",
   "metadata": {},
   "source": [
    "> **Sidenote**\n",
    ">\n",
    "> [Link: Redis LPOP docs](https://redis.io/commands/lpop/)\n",
    ">\n",
    "> **Command**: `LPOP` → Remove and return the first element of a List.\n",
    ">\n",
    "> **Pattern**: `LPOP key`\n",
    ">\n",
    "> **Example**: `LPOP playlist`\n",
    ">\n",
    "> **Result**:\n",
    "> Returns the value of the first element or `nil` if the List is empty."
   ]
  },
  {
   "cell_type": "markdown",
   "id": "3c8876a6",
   "metadata": {},
   "source": [
    "### Viewing Next Five Songs with LRANGE"
   ]
  },
  {
   "cell_type": "code",
   "execution_count": 18,
   "id": "6a7d4ba3",
   "metadata": {},
   "outputs": [
    {
     "name": "stdout",
     "output_type": "stream",
     "text": [
      "Next 5 songs: [b'71', b'25', b'71']\n"
     ]
    }
   ],
   "source": [
    "# retrieve first five elements (index 0–4) from the playlist\n",
    "songs = r.execute_command(\"LRANGE\", \"playlist\", 0, 4)\n",
    "print(\"Next 5 songs:\", songs)"
   ]
  },
  {
   "cell_type": "markdown",
   "id": "55f61179",
   "metadata": {},
   "source": [
    "> **Sidenote**\n",
    ">\n",
    "> [Link: Redis LRANGE docs](https://redis.io/commands/lrange/)\n",
    ">\n",
    "> **Command**: `LRANGE` → Get a range of elements from a List.\n",
    ">\n",
    "> **Pattern**: `LRANGE key start stop`\n",
    ">\n",
    "> **Example**: `LRANGE playlist 0 4`\n",
    ">\n",
    "> **Result**:\n",
    "> Returns elements within the specified range."
   ]
  },
  {
   "cell_type": "markdown",
   "id": "5c36b6cf",
   "metadata": {},
   "source": [
    "### Checking Playlist Length with LLEN"
   ]
  },
  {
   "cell_type": "code",
   "execution_count": 19,
   "id": "08350c07",
   "metadata": {},
   "outputs": [
    {
     "name": "stdout",
     "output_type": "stream",
     "text": [
      "Songs left: 3\n"
     ]
    }
   ],
   "source": [
    "# get number of elements in playlist\n",
    "length = r.execute_command(\"LLEN\", \"playlist\")\n",
    "print(\"Songs left:\", length)"
   ]
  },
  {
   "cell_type": "markdown",
   "id": "be4c4c03",
   "metadata": {},
   "source": [
    "> **Sidenote**\n",
    ">\n",
    "> [Link: Redis LLEN docs](https://redis.io/commands/llen/)\n",
    ">\n",
    "> **Command**: `LLEN` → Get the length of a List.\n",
    ">\n",
    "> **Pattern**: `LLEN key`\n",
    ">\n",
    "> **Example**: `LLEN playlist`\n",
    ">\n",
    "> **Result**:\n",
    "> Returns the number of elements in the List."
   ]
  },
  {
   "cell_type": "markdown",
   "id": "bcd6a888",
   "metadata": {},
   "source": [
    "\n",
    "\n",
    "### Performance Characteristics\n",
    "\n",
    "* **LPOP, RPUSH, LLEN**: `O(1)` constant time complexity.\n",
    "* **LRANGE**: `O(s+n)` where:\n",
    "\n",
    "  * `s` = distance of the start offset from the head.\n",
    "  * `n` = number of elements in the specified range.\n",
    "\n",
    "> **Sidenote**\n",
    ">\n",
    "> [Link: Redis Big O notation](https://redis.io/docs/latest/develop/reference/big-o/)\n",
    ">\n",
    "> **Concept**: `Time Complexity` → Measure of how the runtime of a command scales with input size.\n",
    ">\n",
    "> **Context**: Important for evaluating Redis command performance on large datasets.\n",
    ">\n",
    "> **Example**: `LPOP` is constant-time, unaffected by list length. `LRANGE` grows with range size.\n",
    ">\n",
    "> **Implication**: Use `LRANGE` carefully with large Lists to avoid performance bottlenecks.\n",
    "\n",
    "### Using Lists as Queues and Stacks\n",
    "\n",
    "* **Queue**:\n",
    "\n",
    "  * Enqueue: `RPUSH`\n",
    "  * Dequeue: `LPOP`\n",
    "* **Stack**:\n",
    "\n",
    "  * Push: `RPUSH`\n",
    "  * Pop: `RPOP`\n",
    "\n",
    "* Retrieve subsets with LRANGE.\n",
    "* Count elements with LLEN.\n",
    "* A single List can hold over 4 billion entries.\n",
    "\n",
    "> **Sidenote**\n",
    ">\n",
    "> [Link: Redis Lists data type](https://redis.io/docs/latest/develop/data-types/lists/)\n",
    ">\n",
    "> **Concept**: `Redis Lists` → Ordered collections of strings supporting insertion and removal from both ends.\n",
    ">\n",
    "> **Context**: Useful for implementing messaging queues, task schedulers, and playlists.\n",
    ">\n",
    "> **Example**: Radio playlist queue.\n",
    ">\n",
    "> **Implication**: Redis Lists are versatile structures for ordered data, supporting over 4 billion entries.\n",
    "\n"
   ]
  },
  {
   "cell_type": "markdown",
   "id": "77c9066a",
   "metadata": {},
   "source": [
    "### Original Transcript\n",
    "\n",
    "Video title: Redis Lists Explained\n",
    "    \n",
    "Video URL: https://youtu.be/202yxNkUJyE\n",
    "    \n",
    "Video language: English (United States)\n",
    "    \n",
    "--------------------------------\n",
    "\n",
    "Hello. Thanks for tuning in to KRDS, Redis' number one hit station. Join me for a quick intro to Lists, one of the many Redis data types. In this video, I'll explain what Redis Lists are, how they work, and how they'll help us organize and deliver around-the-clock hits. You'll want to turn up the volume on this one.  All right, so think of a List as an ordered sequence of strings comparable to a Java ArrayList, a JavaScript array, or a Python list. Lists are great for storing strings, but you can also use them to implement stacks and queues. In our example today, we'll be using Lists to represent a radio station's playlist. Each playlist is effectively a queue. We'll learn how to add and remove songs, how to view the next five songs, and how to see how many songs we have left to play. For our radio station, we'll keep a Redis List called playlist. Each element in our List will be the ID of a song. When adding new elements, we say that we're pushing them onto the List. We push elements onto the right-hand side of the List using the RPUSH command. Phil Collins' classic hit, \"Sussudio\" -- that's under the song ID 25, so we'll start the number 25 in our queue. Our command will be RPUSH playlist 25. Sade's \"Smooth Operator\" -- that's 71. Our next command will be RPUSH playlist 71.  Now that we have some smooth grooves all queued up, it's just a matter of removing the first one we pushed into our playlist to know which song to play next. Since we're pushing all of our songs to the right-hand side, we'll remove, or pop, the songs from the left-hand side. The command to remove an element from our queue is LPOP. So we'll run LPOP playlist. Once we've popped the next song ID, we'll get the song from our database, and play it on air. Now that we've stored our songs in a queue, how do we find the next five songs scheduled to play? We'll use the LRANGE command. The LRANGE command returns elements within a List between a given start and end index offset. Here, we're asking for the first to the fifth elements. So our starting index is 0, and our ending index is 4. The complete LRANGE command is LRANGE playlist 0 4. Lastly, we'll want to ensure our playlist is adequately full of songs. Otherwise, we'll have -- [RECORD SCRATCH] [CRICKETS] -- radio silence.  To check the length of a Redis List, use the LLEN command. \"LLEN playlist\" returns the number of items in our queue, 7. OK, let's talk about the performance of the various List commands we've covered. LPOP, RPUSH, and LLEN are all O(1) constant time complexity operations. So performance isn't dependent on the length of the List. Constant time complexity is as efficient as it gets. LRANGE is O(s+n), where s is the distance of the start offset from the head, and n is the number of elements in the specified range. You need to be careful of LRANGE, especially when dealing with extra long Lists or when retrieving thousands or more elements. OK, let's review what we've covered in this segment. We've learned how to model a queue using a List and its RPUSH and LPOP commands. We learned how to get the first five elements from a List with LRANGE. We've also learned how to get the length of a List using LLEN.  What would you do with Redis Lists? A single List can hold over 4 billion entries. You don't have to rock this jam on repeat. And Lists aren't just for what you might normally think of as Lists. Need a queue? Just use RPUSH and LPOP. Need a stack? Use RPUSH and RPOP. Traverse a List? Remember, LRANGE. To learn more about Redis Lists, tune into our free online course, \"Introduction to Redis Data Structures\". It's part of Redis University, our online learning platform for all things Redis. Thanks for joining me in this Redis List listening session. Hope to see you again, and don't touch that dial.\n",
    "\n",
    "\n",
    "DISCLAIMER:\n",
    "\n",
    "\n",
    "By using this tool to convert YouTube videos to Text, you acknowledge and agree to the following:\n",
    "\n",
    "\n",
    "1. User Responsibility: You are responsible for ensuring that your use of this tool complies with all applicable copyright laws and YouTube's Terms of Use. This includes obtaining any necessary permissions from the original content creators before reproducing or distributing any content.\n",
    "\n",
    "\n",
    "2. Content Ownership: The transcripts generated by this tool are based on publicly available content from YouTube. You do not own the rights to the original video content or its transcripts. All copyrights and ownership rights remain with the original content creators.\n",
    "\n",
    "\n",
    "3. Attribution: This tool provides the URL of the original YouTube video for reference purposes. You are encouraged to include proper attribution when sharing the generated Text.\n",
    "\n",
    "\n",
    "4. Limitations of Liability: We disclaim any liability for the misuse of the content generated through this tool. By using this tool, you agree to hold us harmless from any claims or disputes arising from your use of the content."
   ]
  },
  {
   "cell_type": "markdown",
   "id": "5b24bad1",
   "metadata": {},
   "source": []
  }
 ],
 "metadata": {
  "kernelspec": {
   "display_name": ".venv",
   "language": "python",
   "name": "python3"
  },
  "language_info": {
   "codemirror_mode": {
    "name": "ipython",
    "version": 3
   },
   "file_extension": ".py",
   "mimetype": "text/x-python",
   "name": "python",
   "nbconvert_exporter": "python",
   "pygments_lexer": "ipython3",
   "version": "3.13.7"
  }
 },
 "nbformat": 4,
 "nbformat_minor": 5
}
