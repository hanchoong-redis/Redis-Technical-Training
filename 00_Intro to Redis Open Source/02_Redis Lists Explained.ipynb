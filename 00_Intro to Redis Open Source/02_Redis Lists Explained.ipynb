{
 "cells": [
  {
   "cell_type": "code",
   "execution_count": 10,
   "id": "a1c25dce",
   "metadata": {},
   "outputs": [],
   "source": [
    "!pip -q install redis redis-cli"
   ]
  },
  {
   "cell_type": "code",
   "execution_count": 11,
   "id": "7ed2c042",
   "metadata": {},
   "outputs": [],
   "source": [
    "import redis\n",
    "r = redis.Redis(host=\"127.0.0.1\", port=6379, db=0)"
   ]
  },
  {
   "cell_type": "markdown",
   "id": "3c4f9deb",
   "metadata": {},
   "source": [
    "## Redis Lists Explained - [Link to Video](https://youtu.be/202yxNkUJyE)\n",
    "\n",
    "### Introduction to Redis Lists\n",
    "\n",
    "A Redis List is an ordered sequence of strings, comparable to:\n",
    "\n",
    "- Java `ArrayList`\n",
    "- JavaScript `Array`\n",
    "- Python `list`\n",
    "\n",
    "Lists can be used to implement stacks and queues.  \n",
    "In this example, a Redis List models a radio station's playlist queue.\n",
    "\n",
    "---\n",
    "\n",
    "### Adding Songs with RPUSH\n"
   ]
  },
  {
   "cell_type": "code",
   "execution_count": 16,
   "id": "b8d779fa",
   "metadata": {},
   "outputs": [
    {
     "name": "stdout",
     "output_type": "stream",
     "text": [
      "Playlist length: 4\n"
     ]
    }
   ],
   "source": [
    "# push elements to the right-hand side of the playlist\n",
    "r.execute_command(\"RPUSH\", \"playlist\", 25)\n",
    "r.execute_command(\"RPUSH\", \"playlist\", 71)\n",
    "\n",
    "# verify list length\n",
    "print(\"Playlist length:\", r.execute_command(\"LLEN\", \"playlist\"))"
   ]
  },
  {
   "cell_type": "markdown",
   "id": "271c7078",
   "metadata": {},
   "source": [
    "> **Sidenote**\n",
    ">\n",
    "> [Link: Redis RPUSH docs](https://redis.io/commands/rpush/)\n",
    ">\n",
    "> **Command**: `RPUSH` → Append one or multiple values to the end of a List.\n",
    ">\n",
    "> **Pattern**: `RPUSH key value [value ...]`\n",
    ">\n",
    "> **Example**: `RPUSH playlist 25 71`\n",
    ">\n",
    "> **Result**:\n",
    "> Returns the length of the List after the push."
   ]
  },
  {
   "cell_type": "markdown",
   "id": "c97e378a",
   "metadata": {},
   "source": [
    "### Removing Songs with LPOP"
   ]
  },
  {
   "cell_type": "code",
   "execution_count": 17,
   "id": "45af51c8",
   "metadata": {},
   "outputs": [
    {
     "name": "stdout",
     "output_type": "stream",
     "text": [
      "Next song to play: b'25'\n"
     ]
    }
   ],
   "source": [
    "# remove first element from the left-hand side of the playlist\n",
    "song_id = r.execute_command(\"LPOP\", \"playlist\")\n",
    "print(\"Next song to play:\", song_id)"
   ]
  },
  {
   "cell_type": "markdown",
   "id": "cfda0ce9",
   "metadata": {},
   "source": [
    "> **Sidenote**\n",
    ">\n",
    "> [Link: Redis LPOP docs](https://redis.io/commands/lpop/)\n",
    ">\n",
    "> **Command**: `LPOP` → Remove and return the first element of a List.\n",
    ">\n",
    "> **Pattern**: `LPOP key`\n",
    ">\n",
    "> **Example**: `LPOP playlist`\n",
    ">\n",
    "> **Result**:\n",
    "> Returns the value of the first element or `nil` if the List is empty."
   ]
  },
  {
   "cell_type": "markdown",
   "id": "3c8876a6",
   "metadata": {},
   "source": [
    "### Viewing Next Five Songs with LRANGE"
   ]
  },
  {
   "cell_type": "code",
   "execution_count": 18,
   "id": "6a7d4ba3",
   "metadata": {},
   "outputs": [
    {
     "name": "stdout",
     "output_type": "stream",
     "text": [
      "Next 5 songs: [b'71', b'25', b'71']\n"
     ]
    }
   ],
   "source": [
    "# retrieve first five elements (index 0–4) from the playlist\n",
    "songs = r.execute_command(\"LRANGE\", \"playlist\", 0, 4)\n",
    "print(\"Next 5 songs:\", songs)"
   ]
  },
  {
   "cell_type": "markdown",
   "id": "55f61179",
   "metadata": {},
   "source": [
    "> **Sidenote**\n",
    ">\n",
    "> [Link: Redis LRANGE docs](https://redis.io/commands/lrange/)\n",
    ">\n",
    "> **Command**: `LRANGE` → Get a range of elements from a List.\n",
    ">\n",
    "> **Pattern**: `LRANGE key start stop`\n",
    ">\n",
    "> **Example**: `LRANGE playlist 0 4`\n",
    ">\n",
    "> **Result**:\n",
    "> Returns elements within the specified range."
   ]
  },
  {
   "cell_type": "markdown",
   "id": "5c36b6cf",
   "metadata": {},
   "source": [
    "### Checking Playlist Length with LLEN"
   ]
  },
  {
   "cell_type": "code",
   "execution_count": 19,
   "id": "08350c07",
   "metadata": {},
   "outputs": [
    {
     "name": "stdout",
     "output_type": "stream",
     "text": [
      "Songs left: 3\n"
     ]
    }
   ],
   "source": [
    "# get number of elements in playlist\n",
    "length = r.execute_command(\"LLEN\", \"playlist\")\n",
    "print(\"Songs left:\", length)"
   ]
  },
  {
   "cell_type": "markdown",
   "id": "be4c4c03",
   "metadata": {},
   "source": [
    "> **Sidenote**\n",
    ">\n",
    "> [Link: Redis LLEN docs](https://redis.io/commands/llen/)\n",
    ">\n",
    "> **Command**: `LLEN` → Get the length of a List.\n",
    ">\n",
    "> **Pattern**: `LLEN key`\n",
    ">\n",
    "> **Example**: `LLEN playlist`\n",
    ">\n",
    "> **Result**:\n",
    "> Returns the number of elements in the List."
   ]
  },
  {
   "cell_type": "markdown",
   "id": "bcd6a888",
   "metadata": {},
   "source": [
    "\n",
    "\n",
    "### Performance Characteristics\n",
    "\n",
    "* **LPOP, RPUSH, LLEN**: `O(1)` constant time complexity.\n",
    "* **LRANGE**: `O(s+n)` where:\n",
    "\n",
    "  * `s` = distance of the start offset from the head.\n",
    "  * `n` = number of elements in the specified range.\n",
    "\n",
    "> **Sidenote**\n",
    ">\n",
    "> [Link: Redis Big O notation](https://redis.io/docs/latest/develop/reference/big-o/)\n",
    ">\n",
    "> **Concept**: `Time Complexity` → Measure of how the runtime of a command scales with input size.\n",
    ">\n",
    "> **Context**: Important for evaluating Redis command performance on large datasets.\n",
    ">\n",
    "> **Example**: `LPOP` is constant-time, unaffected by list length. `LRANGE` grows with range size.\n",
    ">\n",
    "> **Implication**: Use `LRANGE` carefully with large Lists to avoid performance bottlenecks.\n",
    "\n",
    "---\n",
    "\n",
    "### Using Lists as Queues and Stacks\n",
    "\n",
    "* **Queue**:\n",
    "\n",
    "  * Enqueue: `RPUSH`\n",
    "  * Dequeue: `LPOP`\n",
    "* **Stack**:\n",
    "\n",
    "  * Push: `RPUSH`\n",
    "  * Pop: `RPOP`\n",
    "\n",
    "> **Sidenote**\n",
    ">\n",
    "> [Link: Redis Lists data type](https://redis.io/docs/latest/develop/data-types/lists/)\n",
    ">\n",
    "> **Concept**: `Redis Lists` → Ordered collections of strings supporting insertion and removal from both ends.\n",
    ">\n",
    "> **Context**: Useful for implementing messaging queues, task schedulers, and playlists.\n",
    ">\n",
    "> **Example**: Radio playlist queue.\n",
    ">\n",
    "> **Implication**: Redis Lists are versatile structures for ordered data, supporting over 4 billion entries.\n",
    "\n"
   ]
  },
  {
   "cell_type": "markdown",
   "id": "77c9066a",
   "metadata": {},
   "source": []
  }
 ],
 "metadata": {
  "kernelspec": {
   "display_name": ".venv",
   "language": "python",
   "name": "python3"
  },
  "language_info": {
   "codemirror_mode": {
    "name": "ipython",
    "version": 3
   },
   "file_extension": ".py",
   "mimetype": "text/x-python",
   "name": "python",
   "nbconvert_exporter": "python",
   "pygments_lexer": "ipython3",
   "version": "3.13.7"
  }
 },
 "nbformat": 4,
 "nbformat_minor": 5
}
